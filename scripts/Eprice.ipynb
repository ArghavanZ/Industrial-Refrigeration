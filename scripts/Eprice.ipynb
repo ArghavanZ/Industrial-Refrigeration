{
 "cells": [
  {
   "cell_type": "code",
   "execution_count": 1,
   "id": "2f963f1c",
   "metadata": {},
   "outputs": [],
   "source": [
    "import numpy as np \n",
    "import os, sys\n",
    "ROOT = os.path.abspath(\"..\")  # or specific path\n",
    "sys.path.append(os.path.join(ROOT, \"src\"))\n",
    "\n",
    "# import external packages\n"
   ]
  },
  {
   "cell_type": "markdown",
   "id": "b599a0a8",
   "metadata": {},
   "source": [
    "Make price list and remaining time"
   ]
  },
  {
   "cell_type": "code",
   "execution_count": 2,
   "id": "499581c2",
   "metadata": {},
   "outputs": [
    {
     "name": "stdout",
     "output_type": "stream",
     "text": [
      "[1.e-08 5.e-08 1.e-08]\n"
     ]
    }
   ],
   "source": [
    "price_array = np.array([1.0e-8, 5.0e-8, 1.0e-8])\n",
    "print(price_array)\n",
    "\n",
    "steps = np.array([480, 480 , 480])\n",
    "\n",
    "price_expanded = np.repeat(price_array, steps)\n"
   ]
  },
  {
   "cell_type": "code",
   "execution_count": 3,
   "id": "f8bfd1ed",
   "metadata": {},
   "outputs": [],
   "source": [
    "np.savez(f\"{ROOT}/env_config/price_list1.npz\", price=price_expanded , price_array=price_array , steps=steps)"
   ]
  },
  {
   "cell_type": "markdown",
   "id": "f38da643",
   "metadata": {},
   "source": [
    "Make price vector "
   ]
  },
  {
   "cell_type": "code",
   "execution_count": 4,
   "id": "cb707cc3",
   "metadata": {},
   "outputs": [
    {
     "name": "stdout",
     "output_type": "stream",
     "text": [
      "[1.e-08 5.e-08 1.e-08]\n"
     ]
    }
   ],
   "source": [
    "price_array = np.array([1.0e-8, 5.0e-8, 1.0e-8])\n",
    "print(price_array)\n",
    "\n",
    "steps = np.array([480, 480 , 480])\n",
    "\n",
    "price_expanded = np.repeat(price_array, steps)"
   ]
  },
  {
   "cell_type": "code",
   "execution_count": 5,
   "id": "0751acf3",
   "metadata": {},
   "outputs": [],
   "source": [
    "np.savez(f\"{ROOT}/env_config/price_vec1.npz\", price=price_expanded )"
   ]
  }
 ],
 "metadata": {
  "kernelspec": {
   "display_name": "online_rl",
   "language": "python",
   "name": "python3"
  },
  "language_info": {
   "codemirror_mode": {
    "name": "ipython",
    "version": 3
   },
   "file_extension": ".py",
   "mimetype": "text/x-python",
   "name": "python",
   "nbconvert_exporter": "python",
   "pygments_lexer": "ipython3",
   "version": "3.11.13"
  }
 },
 "nbformat": 4,
 "nbformat_minor": 5
}
